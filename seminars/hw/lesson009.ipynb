{
  "nbformat": 4,
  "nbformat_minor": 0,
  "metadata": {
    "colab": {
      "provenance": []
    },
    "kernelspec": {
      "name": "python3",
      "display_name": "Python 3"
    },
    "language_info": {
      "name": "python"
    }
  },
  "cells": [
    {
      "cell_type": "markdown",
      "source": [
        "\n",
        "##Определить среднюю стоимость дома\n",
        "\n",
        "Дан файл california_housing_train.csv. Определить среднюю стоимость дома , где количество людей от 0 до 500 (population) и сохранить ее в переменную avg.\n",
        "Используйте модуль pandas."
      ],
      "metadata": {
        "id": "Lz9YC7qIbSRH"
      }
    },
    {
      "cell_type": "code",
      "source": [
        "import pandas as pd\n",
        "import numpy as np\n",
        "\n",
        "df = pd.read_csv('/content/sample_data/california_housing_train.csv')\n",
        "avg = df[df['population'] < 500]['median_house_value'].mean()\n",
        "avg\n"
      ],
      "metadata": {
        "id": "lonQZpmQXYQy",
        "colab": {
          "base_uri": "https://localhost:8080/"
        },
        "outputId": "ecac70dd-f64d-49ae-d776-b96e6da01b26"
      },
      "execution_count": 13,
      "outputs": [
        {
          "output_type": "execute_result",
          "data": {
            "text/plain": [
              "206683.83635227982"
            ]
          },
          "metadata": {},
          "execution_count": 13
        }
      ]
    },
    {
      "cell_type": "markdown",
      "source": [
        "##Максимальная households\n",
        "Дан файл california_housing_train.csv.\n",
        "Найти максимальное значение переменной \"households\" в зоне минимального значения переменной min_population и сохраните это значение в переменную max_households_in_min_population.\n",
        "Используйте модуль pandas."
      ],
      "metadata": {
        "id": "qX0U5PpGgUEZ"
      }
    },
    {
      "cell_type": "code",
      "source": [
        "min_population = df[df['population'] == df['population'].min()]\n",
        "max_households_in_min_population = min_population['households'].max()\n",
        "max_households_in_min_population"
      ],
      "metadata": {
        "colab": {
          "base_uri": "https://localhost:8080/"
        },
        "id": "3RZkuW74gSVc",
        "outputId": "c5852f0d-1990-4f7b-d92b-cfab16b6b780"
      },
      "execution_count": 16,
      "outputs": [
        {
          "output_type": "execute_result",
          "data": {
            "text/plain": [
              "4.0"
            ]
          },
          "metadata": {},
          "execution_count": 16
        }
      ]
    }
  ]
}